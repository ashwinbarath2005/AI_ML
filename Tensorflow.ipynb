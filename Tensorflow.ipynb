{
  "nbformat": 4,
  "nbformat_minor": 0,
  "metadata": {
    "colab": {
      "provenance": []
    },
    "kernelspec": {
      "name": "python3",
      "display_name": "Python 3"
    },
    "language_info": {
      "name": "python"
    }
  },
  "cells": [
    {
      "cell_type": "code",
      "execution_count": 1,
      "metadata": {
        "colab": {
          "base_uri": "https://localhost:8080/"
        },
        "id": "uajckNFDvpj2",
        "outputId": "78c8e5ed-1ed4-4c6f-9965-b7692165a92b"
      },
      "outputs": [
        {
          "output_type": "stream",
          "name": "stdout",
          "text": [
            "TensorFlow version:2.18.0\n"
          ]
        }
      ],
      "source": [
        "import tensorflow as tf\n",
        "print(\"TensorFlow version:{}\".format(tf.__version__))"
      ]
    },
    {
      "cell_type": "code",
      "source": [
        "d0=tf.constant(1)\n",
        "print(\"Dimension is\",tf.rank(d0).numpy())\n",
        "print(d0)"
      ],
      "metadata": {
        "colab": {
          "base_uri": "https://localhost:8080/"
        },
        "id": "8Vhm1BaJwGnh",
        "outputId": "eba95159-ec70-4e27-9c18-909f3b0a9eaf"
      },
      "execution_count": 2,
      "outputs": [
        {
          "output_type": "stream",
          "name": "stdout",
          "text": [
            "Dimension is 0\n",
            "tf.Tensor(1, shape=(), dtype=int32)\n"
          ]
        }
      ]
    },
    {
      "cell_type": "markdown",
      "source": [
        "n=1 : Vector"
      ],
      "metadata": {
        "id": "SDVUpzhKBczN"
      }
    },
    {
      "cell_type": "code",
      "source": [
        "d1=tf.ones((2,))\n",
        "print(\"Dimension is\",tf.rank(d1).numpy())\n",
        "print(d1)"
      ],
      "metadata": {
        "colab": {
          "base_uri": "https://localhost:8080/"
        },
        "id": "QaDthujrw0sK",
        "outputId": "db92d4d1-2f98-499d-d641-144940171af8"
      },
      "execution_count": 3,
      "outputs": [
        {
          "output_type": "stream",
          "name": "stdout",
          "text": [
            "Dimension is 1\n",
            "tf.Tensor([1. 1.], shape=(2,), dtype=float32)\n"
          ]
        }
      ]
    },
    {
      "cell_type": "markdown",
      "source": [
        "n=2 : Martix"
      ],
      "metadata": {
        "id": "m7aEuyIazzQ1"
      }
    },
    {
      "cell_type": "code",
      "source": [
        "d2=tf.ones((2,2))\n",
        "print(\"Dimension is\",tf.rank(d2).numpy())\n",
        "print(d2)"
      ],
      "metadata": {
        "colab": {
          "base_uri": "https://localhost:8080/"
        },
        "id": "5NbAk1edx1AZ",
        "outputId": "a2b53a8a-577f-4a75-b09c-a06a74c59437"
      },
      "execution_count": 4,
      "outputs": [
        {
          "output_type": "stream",
          "name": "stdout",
          "text": [
            "Dimension is 2\n",
            "tf.Tensor(\n",
            "[[1. 1.]\n",
            " [1. 1.]], shape=(2, 2), dtype=float32)\n"
          ]
        }
      ]
    },
    {
      "cell_type": "markdown",
      "source": [
        "n=3 : N-Dimension Metrix"
      ],
      "metadata": {
        "id": "xhmOo8OR0MUI"
      }
    },
    {
      "cell_type": "code",
      "source": [
        "d3=tf.ones((2,2,2))\n",
        "print(\"Dimension is\",tf.rank(d3).numpy())\n",
        "print(d3)"
      ],
      "metadata": {
        "colab": {
          "base_uri": "https://localhost:8080/"
        },
        "id": "dnHeVi94yJKl",
        "outputId": "5d8a4aac-ea9b-4a68-f11c-6fb24d1e4816"
      },
      "execution_count": 5,
      "outputs": [
        {
          "output_type": "stream",
          "name": "stdout",
          "text": [
            "Dimension is 3\n",
            "tf.Tensor(\n",
            "[[[1. 1.]\n",
            "  [1. 1.]]\n",
            "\n",
            " [[1. 1.]\n",
            "  [1. 1.]]], shape=(2, 2, 2), dtype=float32)\n"
          ]
        }
      ]
    },
    {
      "cell_type": "code",
      "source": [
        "#rank 0 tensor\n",
        "x1= tf.Variable(23)\n",
        "#rank 3 tensor\n",
        "x2=tf.Variable([[[0.,1.,2.],[3.,4.,5.]],[[6.,7.,8.],[9.,10.,11.]]])\n",
        "#python variable\n",
        "x0=123\n",
        "x1"
      ],
      "metadata": {
        "colab": {
          "base_uri": "https://localhost:8080/"
        },
        "id": "JTxmpzwA0dYy",
        "outputId": "f4a39dcf-ecb5-40c1-e2f3-858898f4f810"
      },
      "execution_count": 6,
      "outputs": [
        {
          "output_type": "execute_result",
          "data": {
            "text/plain": [
              "<tf.Variable 'Variable:0' shape=() dtype=int32, numpy=23>"
            ]
          },
          "metadata": {},
          "execution_count": 6
        }
      ]
    },
    {
      "cell_type": "markdown",
      "source": [
        "constant"
      ],
      "metadata": {
        "id": "G9At0ZJEBmkQ"
      }
    },
    {
      "cell_type": "code",
      "source": [
        "x1.assign(100)\n",
        "x1"
      ],
      "metadata": {
        "colab": {
          "base_uri": "https://localhost:8080/"
        },
        "id": "i4pmBYn-1UlB",
        "outputId": "9790dfb4-e281-482a-e349-e2ddbf66a8b3"
      },
      "execution_count": 7,
      "outputs": [
        {
          "output_type": "execute_result",
          "data": {
            "text/plain": [
              "<tf.Variable 'Variable:0' shape=() dtype=int32, numpy=100>"
            ]
          },
          "metadata": {},
          "execution_count": 7
        }
      ]
    },
    {
      "cell_type": "code",
      "source": [
        "x1=tf.Variable(100)   #x1=tf.constant(100)\n",
        "print(x1)\n",
        "x1.assign(200)\n",
        "x1"
      ],
      "metadata": {
        "colab": {
          "base_uri": "https://localhost:8080/"
        },
        "id": "DZQK8Rt91uWI",
        "outputId": "5000bcfa-5fea-410e-dcf9-5195683b3e0a"
      },
      "execution_count": 8,
      "outputs": [
        {
          "output_type": "stream",
          "name": "stdout",
          "text": [
            "<tf.Variable 'Variable:0' shape=() dtype=int32, numpy=100>\n"
          ]
        },
        {
          "output_type": "execute_result",
          "data": {
            "text/plain": [
              "<tf.Variable 'Variable:0' shape=() dtype=int32, numpy=200>"
            ]
          },
          "metadata": {},
          "execution_count": 8
        }
      ]
    },
    {
      "cell_type": "code",
      "source": [
        "x2"
      ],
      "metadata": {
        "colab": {
          "base_uri": "https://localhost:8080/"
        },
        "id": "cnxZ3LA62kzk",
        "outputId": "6df37b70-ccbc-4a73-f1f5-a7f4bfc7ae81"
      },
      "execution_count": 9,
      "outputs": [
        {
          "output_type": "execute_result",
          "data": {
            "text/plain": [
              "<tf.Variable 'Variable:0' shape=(2, 2, 3) dtype=float32, numpy=\n",
              "array([[[ 0.,  1.,  2.],\n",
              "        [ 3.,  4.,  5.]],\n",
              "\n",
              "       [[ 6.,  7.,  8.],\n",
              "        [ 9., 10., 11.]]], dtype=float32)>"
            ]
          },
          "metadata": {},
          "execution_count": 9
        }
      ]
    },
    {
      "cell_type": "code",
      "source": [
        "x0"
      ],
      "metadata": {
        "colab": {
          "base_uri": "https://localhost:8080/"
        },
        "id": "Vo7ivIm_3m_A",
        "outputId": "8d8f4132-ca81-4ec0-8eb4-e8cf8430d03a"
      },
      "execution_count": 10,
      "outputs": [
        {
          "output_type": "execute_result",
          "data": {
            "text/plain": [
              "123"
            ]
          },
          "metadata": {},
          "execution_count": 10
        }
      ]
    },
    {
      "cell_type": "markdown",
      "source": [
        "**Reshape**"
      ],
      "metadata": {
        "id": "4s3NJzgI4CK1"
      }
    },
    {
      "cell_type": "code",
      "source": [
        "x112=tf.reshape(x2,[1,12]) #12 rows one column\n",
        "x112"
      ],
      "metadata": {
        "colab": {
          "base_uri": "https://localhost:8080/"
        },
        "id": "pJdOsgct3u2I",
        "outputId": "286caa02-7e19-4c8e-c58e-78aecd01463f"
      },
      "execution_count": 11,
      "outputs": [
        {
          "output_type": "execute_result",
          "data": {
            "text/plain": [
              "<tf.Tensor: shape=(1, 12), dtype=float32, numpy=\n",
              "array([[ 0.,  1.,  2.,  3.,  4.,  5.,  6.,  7.,  8.,  9., 10., 11.]],\n",
              "      dtype=float32)>"
            ]
          },
          "metadata": {},
          "execution_count": 11
        }
      ]
    },
    {
      "cell_type": "markdown",
      "source": [
        "Declaring Variable with Type"
      ],
      "metadata": {
        "id": "IdWDIE_a4dxS"
      }
    },
    {
      "cell_type": "code",
      "source": [
        "xf64=tf.Variable(202,dtype=tf.float64)\n",
        "xf64.dtype"
      ],
      "metadata": {
        "colab": {
          "base_uri": "https://localhost:8080/"
        },
        "id": "KsLMoVvu4Xxr",
        "outputId": "85925dd7-cc82-42aa-e4a0-9a2d6fa66c94"
      },
      "execution_count": 12,
      "outputs": [
        {
          "output_type": "execute_result",
          "data": {
            "text/plain": [
              "tf.float64"
            ]
          },
          "metadata": {},
          "execution_count": 12
        }
      ]
    },
    {
      "cell_type": "code",
      "source": [
        "xf64.numpy()"
      ],
      "metadata": {
        "colab": {
          "base_uri": "https://localhost:8080/"
        },
        "id": "zgDvipbS4--P",
        "outputId": "625a230c-8835-4752-d26d-6ec1946df8cf"
      },
      "execution_count": 13,
      "outputs": [
        {
          "output_type": "execute_result",
          "data": {
            "text/plain": [
              "np.float64(202.0)"
            ]
          },
          "metadata": {},
          "execution_count": 13
        }
      ]
    },
    {
      "cell_type": "markdown",
      "source": [
        "Ranking check dimensions variable"
      ],
      "metadata": {
        "id": "OUjJwPi86Unw"
      }
    },
    {
      "cell_type": "code",
      "source": [
        "tf.rank(xf64)"
      ],
      "metadata": {
        "colab": {
          "base_uri": "https://localhost:8080/"
        },
        "id": "ulaAp3gu6TtV",
        "outputId": "78ea5aa6-083c-4ea5-f15b-edf455e94f9f"
      },
      "execution_count": 14,
      "outputs": [
        {
          "output_type": "execute_result",
          "data": {
            "text/plain": [
              "<tf.Tensor: shape=(), dtype=int32, numpy=0>"
            ]
          },
          "metadata": {},
          "execution_count": 14
        }
      ]
    },
    {
      "cell_type": "code",
      "source": [
        "tf.rank(x2)"
      ],
      "metadata": {
        "colab": {
          "base_uri": "https://localhost:8080/"
        },
        "id": "E0sCaK1M6pY9",
        "outputId": "fe06ccf2-ebc2-4a68-ad2b-cdaa6cb7e5c0"
      },
      "execution_count": 15,
      "outputs": [
        {
          "output_type": "execute_result",
          "data": {
            "text/plain": [
              "<tf.Tensor: shape=(), dtype=int32, numpy=3>"
            ]
          },
          "metadata": {},
          "execution_count": 15
        }
      ]
    },
    {
      "cell_type": "code",
      "source": [
        "t=tf.constant([[[1,1,1],[2,2,2]],[[4,3,5],[4,4,414]]])\n",
        "tf.rank(t).numpy()"
      ],
      "metadata": {
        "colab": {
          "base_uri": "https://localhost:8080/"
        },
        "id": "92colf5F6uJD",
        "outputId": "34e6496f-d1e6-48f0-8218-9f501452256e"
      },
      "execution_count": 16,
      "outputs": [
        {
          "output_type": "execute_result",
          "data": {
            "text/plain": [
              "np.int32(3)"
            ]
          },
          "metadata": {},
          "execution_count": 16
        }
      ]
    },
    {
      "cell_type": "code",
      "source": [
        "t.numpy()"
      ],
      "metadata": {
        "colab": {
          "base_uri": "https://localhost:8080/"
        },
        "id": "O_ftvmDW7IAz",
        "outputId": "295ab6e2-2e7a-47bf-fbda-863220e8779d"
      },
      "execution_count": 17,
      "outputs": [
        {
          "output_type": "execute_result",
          "data": {
            "text/plain": [
              "array([[[  1,   1,   1],\n",
              "        [  2,   2,   2]],\n",
              "\n",
              "       [[  4,   3,   5],\n",
              "        [  4,   4, 414]]], dtype=int32)"
            ]
          },
          "metadata": {},
          "execution_count": 17
        }
      ]
    },
    {
      "cell_type": "markdown",
      "source": [
        "Tensor Slicing"
      ],
      "metadata": {
        "id": "Had6JTw47xrF"
      }
    },
    {
      "cell_type": "code",
      "source": [
        "tensor3=t[1,1,2]  #slice1,row0,column2\n",
        "tensor3"
      ],
      "metadata": {
        "colab": {
          "base_uri": "https://localhost:8080/"
        },
        "id": "edJX4KYK7prN",
        "outputId": "3be1495e-0ef9-49df-e76a-810ad75d4f47"
      },
      "execution_count": 18,
      "outputs": [
        {
          "output_type": "execute_result",
          "data": {
            "text/plain": [
              "<tf.Tensor: shape=(), dtype=int32, numpy=414>"
            ]
          },
          "metadata": {},
          "execution_count": 18
        }
      ]
    },
    {
      "cell_type": "code",
      "source": [
        "x=tf.constant([0,1,1,2,3,4,8,13,21,34])\n",
        "print(\"Before 4:\",x[:4].numpy())\n",
        "print(\"After 4:\",x[4:].numpy())\n",
        "print(\"From 2,before 7:\",x[2:7].numpy())\n",
        "print(\"Every other item:\",x[::2].numpy())\n",
        "print(\"Reversed:\",x[::-1].numpy())"
      ],
      "metadata": {
        "colab": {
          "base_uri": "https://localhost:8080/"
        },
        "id": "SRlGSUs98BJO",
        "outputId": "bd1f636d-12f1-4ae0-9707-4f445fa98a55"
      },
      "execution_count": 19,
      "outputs": [
        {
          "output_type": "stream",
          "name": "stdout",
          "text": [
            "Before 4: [0 1 1 2]\n",
            "After 4: [ 3  4  8 13 21 34]\n",
            "From 2,before 7: [1 2 3 4 8]\n",
            "Every other item: [ 0  1  3  8 21]\n",
            "Reversed: [34 21 13  8  4  3  2  1  1  0]\n"
          ]
        }
      ]
    },
    {
      "cell_type": "markdown",
      "source": [
        "Casting Tensor to a datatype"
      ],
      "metadata": {
        "id": "T2czEVGh9occ"
      }
    },
    {
      "cell_type": "code",
      "source": [
        "a=tf.constant([[1,2],[3,4]])\n",
        "i=tf.cast(a,dtype=tf.float32)\n",
        "print(a)\n",
        "print(i)"
      ],
      "metadata": {
        "colab": {
          "base_uri": "https://localhost:8080/"
        },
        "id": "irCrious9cHJ",
        "outputId": "efe34015-8005-47f3-dede-b79c77b90f70"
      },
      "execution_count": 20,
      "outputs": [
        {
          "output_type": "stream",
          "name": "stdout",
          "text": [
            "tf.Tensor(\n",
            "[[1 2]\n",
            " [3 4]], shape=(2, 2), dtype=int32)\n",
            "tf.Tensor(\n",
            "[[1. 2.]\n",
            " [3. 4.]], shape=(2, 2), dtype=float32)\n"
          ]
        }
      ]
    },
    {
      "cell_type": "markdown",
      "source": [
        "Tensor Operation"
      ],
      "metadata": {
        "id": "jnoMBNSACTaC"
      }
    },
    {
      "cell_type": "code",
      "source": [
        "a= tf.constant([[1,2],[3,4]])\n",
        "b= tf.constant([[5,6],[7,8]])\n",
        "c = a +b"
      ],
      "metadata": {
        "id": "mThPIpqR-S6m"
      },
      "execution_count": 21,
      "outputs": []
    },
    {
      "cell_type": "code",
      "source": [
        "a.numpy()"
      ],
      "metadata": {
        "colab": {
          "base_uri": "https://localhost:8080/"
        },
        "id": "E6c9Us5eDPw0",
        "outputId": "b364cd5b-52d4-49e5-92e2-97b4116f1a83"
      },
      "execution_count": 22,
      "outputs": [
        {
          "output_type": "execute_result",
          "data": {
            "text/plain": [
              "array([[1, 2],\n",
              "       [3, 4]], dtype=int32)"
            ]
          },
          "metadata": {},
          "execution_count": 22
        }
      ]
    },
    {
      "cell_type": "code",
      "source": [
        "b.numpy()"
      ],
      "metadata": {
        "colab": {
          "base_uri": "https://localhost:8080/"
        },
        "id": "DT_8AUN1DhAr",
        "outputId": "aff0cd68-1dce-4440-d501-5e39cccb74c4"
      },
      "execution_count": 23,
      "outputs": [
        {
          "output_type": "execute_result",
          "data": {
            "text/plain": [
              "array([[5, 6],\n",
              "       [7, 8]], dtype=int32)"
            ]
          },
          "metadata": {},
          "execution_count": 23
        }
      ]
    },
    {
      "cell_type": "code",
      "source": [
        "print(a)"
      ],
      "metadata": {
        "colab": {
          "base_uri": "https://localhost:8080/"
        },
        "id": "UBu9W1aVDpP_",
        "outputId": "09775b6e-0ef6-4b31-c5bb-87090c4c09fc"
      },
      "execution_count": 24,
      "outputs": [
        {
          "output_type": "stream",
          "name": "stdout",
          "text": [
            "tf.Tensor(\n",
            "[[1 2]\n",
            " [3 4]], shape=(2, 2), dtype=int32)\n"
          ]
        }
      ]
    },
    {
      "cell_type": "code",
      "source": [
        "print(b)"
      ],
      "metadata": {
        "colab": {
          "base_uri": "https://localhost:8080/"
        },
        "id": "1ibn-KHIDrqI",
        "outputId": "40aa85e9-20f4-4f6a-9a0c-60128bffd89a"
      },
      "execution_count": 25,
      "outputs": [
        {
          "output_type": "stream",
          "name": "stdout",
          "text": [
            "tf.Tensor(\n",
            "[[5 6]\n",
            " [7 8]], shape=(2, 2), dtype=int32)\n"
          ]
        }
      ]
    },
    {
      "cell_type": "code",
      "source": [
        "print(\"\\n output of c\",c)"
      ],
      "metadata": {
        "colab": {
          "base_uri": "https://localhost:8080/"
        },
        "id": "oayD5rZxECmz",
        "outputId": "33b24403-2fe3-4c5c-8e6d-584de02c9f56"
      },
      "execution_count": 26,
      "outputs": [
        {
          "output_type": "stream",
          "name": "stdout",
          "text": [
            "\n",
            " output of c tf.Tensor(\n",
            "[[ 6  8]\n",
            " [10 12]], shape=(2, 2), dtype=int32)\n"
          ]
        }
      ]
    },
    {
      "cell_type": "code",
      "source": [
        "d =tf.square(c)\n",
        "print(d)"
      ],
      "metadata": {
        "colab": {
          "base_uri": "https://localhost:8080/"
        },
        "id": "t2igUHyQEGIt",
        "outputId": "f70d97f5-e7a0-4d8c-b7ad-72b40daa297f"
      },
      "execution_count": 27,
      "outputs": [
        {
          "output_type": "stream",
          "name": "stdout",
          "text": [
            "tf.Tensor(\n",
            "[[ 36  64]\n",
            " [100 144]], shape=(2, 2), dtype=int32)\n"
          ]
        }
      ]
    },
    {
      "cell_type": "code",
      "source": [
        "tf.add(a,b)"
      ],
      "metadata": {
        "colab": {
          "base_uri": "https://localhost:8080/"
        },
        "id": "eVoEV4IQEMjR",
        "outputId": "ebbc20e6-211c-4a39-c926-320bb8dfd365"
      },
      "execution_count": 28,
      "outputs": [
        {
          "output_type": "execute_result",
          "data": {
            "text/plain": [
              "<tf.Tensor: shape=(2, 2), dtype=int32, numpy=\n",
              "array([[ 6,  8],\n",
              "       [10, 12]], dtype=int32)>"
            ]
          },
          "metadata": {},
          "execution_count": 28
        }
      ]
    },
    {
      "cell_type": "code",
      "source": [
        "tf.subtract(b,a)"
      ],
      "metadata": {
        "colab": {
          "base_uri": "https://localhost:8080/"
        },
        "id": "I31djFalEVRe",
        "outputId": "bfe0a4cd-cdfe-4a90-a048-746f41d7c2f8"
      },
      "execution_count": 29,
      "outputs": [
        {
          "output_type": "execute_result",
          "data": {
            "text/plain": [
              "<tf.Tensor: shape=(2, 2), dtype=int32, numpy=\n",
              "array([[4, 4],\n",
              "       [4, 4]], dtype=int32)>"
            ]
          },
          "metadata": {},
          "execution_count": 29
        }
      ]
    },
    {
      "cell_type": "code",
      "source": [
        "e= a*b\n",
        "print(e)\n",
        "tf.multiply(a,b) # No of columns in a == No of Rows in b tensor"
      ],
      "metadata": {
        "colab": {
          "base_uri": "https://localhost:8080/"
        },
        "id": "EC-3m13tEgEc",
        "outputId": "03897852-f483-4883-a2f6-4a051f3a92fa"
      },
      "execution_count": 30,
      "outputs": [
        {
          "output_type": "stream",
          "name": "stdout",
          "text": [
            "tf.Tensor(\n",
            "[[ 5 12]\n",
            " [21 32]], shape=(2, 2), dtype=int32)\n"
          ]
        },
        {
          "output_type": "execute_result",
          "data": {
            "text/plain": [
              "<tf.Tensor: shape=(2, 2), dtype=int32, numpy=\n",
              "array([[ 5, 12],\n",
              "       [21, 32]], dtype=int32)>"
            ]
          },
          "metadata": {},
          "execution_count": 30
        }
      ]
    },
    {
      "cell_type": "code",
      "source": [],
      "metadata": {
        "id": "0GiE3kAsEsor"
      },
      "execution_count": 30,
      "outputs": []
    }
  ]
}