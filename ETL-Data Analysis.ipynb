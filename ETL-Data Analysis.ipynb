{
 "cells": [
  {
   "cell_type": "code",
   "execution_count": 1,
   "id": "c35c7f8c-6130-4504-af40-449ce75c3355",
   "metadata": {},
   "outputs": [
    {
     "name": "stdout",
     "output_type": "stream",
     "text": [
      "Requirement already satisfied: mysql-connector-python in c:\\users\\ashwinbarath\\anaconda3\\lib\\site-packages (9.3.0)\n"
     ]
    }
   ],
   "source": [
    "#!pip install mysql-connector-python"
   ]
  },
  {
   "cell_type": "code",
   "execution_count": 30,
   "id": "889567d8-ffaa-4eac-9314-98ebcbd5b791",
   "metadata": {},
   "outputs": [],
   "source": [
    "import logging\n",
    "\n",
    "# Set up basic logging\n",
    "logging.basicConfig(\n",
    "    filename='etl_log.txt',\n",
    "    level=logging.INFO,\n",
    "    format='%(asctime)s - %(levelname)s - %(message)s'\n",
    ")\n"
   ]
  },
  {
   "cell_type": "code",
   "execution_count": 31,
   "id": "03916ced-94eb-439f-8a6c-9737182a6ddf",
   "metadata": {},
   "outputs": [],
   "source": [
    "import pandas as pd\n",
    "import numpy as np\n",
    "import mysql.connector\n",
    "import datetime"
   ]
  },
  {
   "cell_type": "code",
   "execution_count": 32,
   "id": "71a534c8-53a1-4474-b57b-832da60d87df",
   "metadata": {},
   "outputs": [
    {
     "name": "stdout",
     "output_type": "stream",
     "text": [
      "Raw data loaded:\n",
      "   EMPLOYEE_ID FIRST_NAME  LAST_NAME     EMAIL  PHONE_NUMBER  HIRE_DATE  \\\n",
      "0          198     Donald   OConnell  DOCONNEL  650.507.9833  21-Jun-07   \n",
      "1          199    Douglas      Grant    DGRANT  650.507.9844  13-Jan-08   \n",
      "2          200   Jennifer     Whalen   JWHALEN  515.123.4444  17-Sep-03   \n",
      "3          201    Michael  Hartstein  MHARTSTE  515.123.5555  17-Feb-04   \n",
      "4          202        Pat        Fay      PFAY  603.123.6666  17-Aug-05   \n",
      "\n",
      "     JOB_ID  SALARY  \n",
      "0  SH_CLERK    2600  \n",
      "1  SH_CLERK    2600  \n",
      "2   AD_ASST    4400  \n",
      "3    MK_MAN   13000  \n",
      "4    MK_REP    6000  \n",
      "['EMPLOYEE_ID', 'FIRST_NAME', 'LAST_NAME', 'EMAIL', 'PHONE_NUMBER', 'HIRE_DATE', 'JOB_ID', 'SALARY']\n"
     ]
    }
   ],
   "source": [
    "csv_file_path = 'employees1.csv'\n",
    "df = pd.read_csv(csv_file_path)\n",
    "\n",
    "print(\"Raw data loaded:\")\n",
    "print(df.head())\n",
    "print(df.columns.tolist())\n",
    "\n",
    "logging.info(\"CSV loaded successfully.\")"
   ]
  },
  {
   "cell_type": "code",
   "execution_count": 33,
   "id": "f8fd72aa-ec77-48b7-b82b-7e957fe9d9dc",
   "metadata": {},
   "outputs": [],
   "source": [
    "df.fillna({\n",
    "    'EMAIL': 'not_provided@example.com',\n",
    "    'PHONE_NUMBER': '0000000000',\n",
    "    'HIRE_DATE': '01-Jan-00',\n",
    "    'SALARY': 0\n",
    "}, inplace=True)"
   ]
  },
  {
   "cell_type": "code",
   "execution_count": 34,
   "id": "2131ba08-144d-44d9-a69c-96aa7ff8c179",
   "metadata": {},
   "outputs": [
    {
     "name": "stdout",
     "output_type": "stream",
     "text": [
      "['employee_id', 'first_name', 'last_name', 'email', 'phone_number', 'hire_date', 'job_id', 'salary']\n"
     ]
    }
   ],
   "source": [
    "# Standardize column names\n",
    "df.columns = [col.strip().lower().replace(' ', '_') for col in df.columns]\n",
    "print(df.columns.tolist())"
   ]
  },
  {
   "cell_type": "code",
   "execution_count": 35,
   "id": "10b5db5a-372e-4ffd-a0d4-6743dc295409",
   "metadata": {},
   "outputs": [],
   "source": [
    "# Convert 'hire_date' to proper date format\n",
    "df['hire_date'] = pd.to_datetime(df['hire_date'], format='%d-%b-%y', errors='coerce')\n",
    "\n",
    "# Replace invalid dates with default\n",
    "df['hire_date'] = df['hire_date'].fillna(pd.to_datetime('2000-01-01'))\n",
    "\n",
    "# Convert salary to integer, replace non-numeric\n",
    "df['salary'] = pd.to_numeric(df['salary'], errors='coerce').fillna(0).astype(int)\n",
    "\n",
    "logging.info(\"Data cleaning completed.\")"
   ]
  },
  {
   "cell_type": "code",
   "execution_count": 36,
   "id": "18842d3b-f5a9-499f-b0ed-1020f9b3b89a",
   "metadata": {},
   "outputs": [
    {
     "name": "stdout",
     "output_type": "stream",
     "text": [
      "✅ Connected to MySQL Workbench!\n"
     ]
    }
   ],
   "source": [
    "import mysql.connector\n",
    "\n",
    "mydb = mysql.connector.connect(\n",
    "    host=\"localhost\",         # or 127.0.0.1\n",
    "    user=\"root\",              # as shown under your connection\n",
    "    password=\"Ashwin@2005\",  # 🔑 use the one you typed to open Workbench\n",
    "    database=\"employee\"       # the database name (already created)\n",
    ")\n",
    "\n",
    "if mydb.is_connected():\n",
    "    print(\"✅ Connected to MySQL Workbench!\")\n"
   ]
  },
  {
   "cell_type": "code",
   "execution_count": 37,
   "id": "41fc9d82-72df-47d5-9332-b71e25ddebb8",
   "metadata": {},
   "outputs": [
    {
     "data": {
      "text/plain": [
       "<mysql.connector.connection_cext.CMySQLConnection at 0x2bfcea71590>"
      ]
     },
     "execution_count": 37,
     "metadata": {},
     "output_type": "execute_result"
    }
   ],
   "source": [
    "mydb"
   ]
  },
  {
   "cell_type": "code",
   "execution_count": 38,
   "id": "e92ca155-8916-4983-b104-fed659f1a93b",
   "metadata": {},
   "outputs": [],
   "source": [
    "cursor=mydb.cursor()"
   ]
  },
  {
   "cell_type": "code",
   "execution_count": 39,
   "id": "a2ca8b48-5a7f-4f66-8fe7-324da21f61bc",
   "metadata": {},
   "outputs": [],
   "source": [
    "#sql=\"CREATE DATABASE employee\""
   ]
  },
  {
   "cell_type": "code",
   "execution_count": 40,
   "id": "7f79d2bc-9e51-4ad7-83b9-2776ababe497",
   "metadata": {},
   "outputs": [
    {
     "name": "stdout",
     "output_type": "stream",
     "text": [
      "✅ Table created (if it didn't exist).\n"
     ]
    }
   ],
   "source": [
    "cursor.execute(\"\"\"\n",
    "    CREATE TABLE IF NOT EXISTS salary_2 (\n",
    "        empid INT,\n",
    "        firstname VARCHAR(50),\n",
    "        lastname VARCHAR(50),\n",
    "        email VARCHAR(100),\n",
    "        phone VARCHAR(20),\n",
    "        hire_date DATE,\n",
    "        job_id VARCHAR(20),\n",
    "        salary INT\n",
    "    )\n",
    "\"\"\")\n",
    "\n",
    "print(\"✅ Table created (if it didn't exist).\")\n"
   ]
  },
  {
   "cell_type": "code",
   "execution_count": 41,
   "id": "b6263edd-73c5-43d8-b532-2795a8811438",
   "metadata": {},
   "outputs": [
    {
     "name": "stdout",
     "output_type": "stream",
     "text": [
      "✅ ETL process completed successfully.\n"
     ]
    }
   ],
   "source": [
    "#print(\"🧾 Actual columns in DataFrame:\")\n",
    "#print(df.columns.tolist())\n",
    "#df.columns = [col.strip().lower() for col in df.columns]\n",
    "\n",
    "df['hire_date'] = pd.to_datetime(df['hire_date'], errors='coerce')\n",
    "\n",
    "for index, row in df.iterrows():\n",
    "    sql = \"\"\"\n",
    "        INSERT INTO salary_2 (empid, firstname, lastname, email, phone, hire_date, job_id, salary)\n",
    "        VALUES (%s, %s, %s, %s, %s, %s, %s, %s)\n",
    "        ON DUPLICATE KEY UPDATE\n",
    "            firstname=VALUES(firstname),\n",
    "            lastname=VALUES(lastname),\n",
    "            email=VALUES(email),\n",
    "            phone=VALUES(phone),\n",
    "            hire_date=VALUES(hire_date),\n",
    "            job_id=VALUES(job_id),\n",
    "            salary=VALUES(salary)\n",
    "    \"\"\"\n",
    "    values = (\n",
    "        int(row['employee_id']),\n",
    "        row['first_name'],\n",
    "        row['last_name'],\n",
    "        row['email'],\n",
    "        row['phone_number'],\n",
    "        row['hire_date'].date(),  # ✅ Now this will work\n",
    "        row['job_id'],\n",
    "        int(row['salary'])\n",
    "    )\n",
    "    cursor.execute(sql, values)\n",
    "\n",
    "mydb.commit()\n",
    "cursor.close()\n",
    "mydb.close()\n",
    "\n",
    "logging.error(\"Something went wrong\", exc_info=True)\n",
    "print(\"✅ ETL process completed successfully.\")"
   ]
  },
  {
   "cell_type": "code",
   "execution_count": 45,
   "id": "be260e67-78e5-4be0-862d-acf1606daefa",
   "metadata": {},
   "outputs": [
    {
     "name": "stdout",
     "output_type": "stream",
     "text": [
      "['.anaconda', '.bash_history', '.conda', '.condarc', '.config', '.continuum', '.git', '.gitconfig', '.idlerc', '.ipynb_checkpoints', '.ipython', '.jupyter', '.matplotlib', '.ms-ad', '.spyder-py3', '.vscode', 'anaconda3', 'Analysis of electricity usage.ipynb', 'AppData', 'Application Data', 'Assessment-1.ipynb', 'Contacts', 'Cookies', 'CrossDevice', 'Desktop', 'Documents', 'Downloads', 'Dropbox', 'Duplicate ID Detector using NumPy.ipynb', 'emergency-app', 'Employee hours analysis.ipynb', 'employees1.csv', 'employee_working_hours.csv', 'ETL-Data Analysis.ipynb', 'etl_log.txt', 'Favorites', 'Links', 'Local Settings', 'Music', 'My Documents', 'NetHood', 'NTUSER.DAT', 'ntuser.dat.LOG1', 'ntuser.dat.LOG2', 'NTUSER.DAT{537fcc4d-2a3e-11f0-affb-c62ee5c7937e}.TM.blf', 'NTUSER.DAT{537fcc4d-2a3e-11f0-affb-c62ee5c7937e}.TMContainer00000000000000000001.regtrans-ms', 'NTUSER.DAT{537fcc4d-2a3e-11f0-affb-c62ee5c7937e}.TMContainer00000000000000000002.regtrans-ms', 'ntuser.ini', 'Numpy in array.ipynb', 'OneDrive', 'organize_files.ipynb', 'PrintHood', 'Recent', 'Saved Games', 'Scraping in web.ipynb', 'Searches', 'SendTo', 'Start Menu', 'Templates', 'Videos']\n",
      "C:\\Users\\Ashwinbarath\n"
     ]
    },
    {
     "name": "stderr",
     "output_type": "stream",
     "text": [
      "[NbConvertApp] Converting notebook ETL-Data Analysis.ipynb to script\n",
      "[NbConvertApp] Writing 3406 bytes to ETL-Data Analysis.py\n"
     ]
    }
   ],
   "source": [
    "import os\n",
    "print(os.listdir())\n",
    "print(os.getcwd())\n",
    "\n",
    "get_ipython().system('jupyter nbconvert --to script \"ETL-Data Analysis.ipynb\"')\n"
   ]
  },
  {
   "cell_type": "code",
   "execution_count": null,
   "id": "e87d074d-c8c1-47a2-adf7-b5b4cb0bde92",
   "metadata": {},
   "outputs": [],
   "source": []
  }
 ],
 "metadata": {
  "kernelspec": {
   "display_name": "Python 3 (ipykernel)",
   "language": "python",
   "name": "python3"
  },
  "language_info": {
   "codemirror_mode": {
    "name": "ipython",
    "version": 3
   },
   "file_extension": ".py",
   "mimetype": "text/x-python",
   "name": "python",
   "nbconvert_exporter": "python",
   "pygments_lexer": "ipython3",
   "version": "3.13.5"
  }
 },
 "nbformat": 4,
 "nbformat_minor": 5
}
