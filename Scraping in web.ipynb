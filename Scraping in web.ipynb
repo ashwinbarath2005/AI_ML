{
 "cells": [
  {
   "cell_type": "code",
   "execution_count": 1,
   "id": "54094aa6-d036-4651-9881-0d9ec86b611f",
   "metadata": {},
   "outputs": [],
   "source": [
    "#pip install beautifulsoup4\n",
    "#pip install beautifulsoup4 requests"
   ]
  },
  {
   "cell_type": "code",
   "execution_count": 2,
   "id": "2e41ede9-ce77-4204-bf66-89c038b9e30b",
   "metadata": {},
   "outputs": [],
   "source": [
    "import requests\n",
    "import pandas as pd"
   ]
  },
  {
   "cell_type": "code",
   "execution_count": 3,
   "id": "9718f809-8ece-4bc2-a9df-8d620579c6b4",
   "metadata": {},
   "outputs": [],
   "source": [
    "from bs4 import BeautifulSoup"
   ]
  },
  {
   "cell_type": "code",
   "execution_count": 4,
   "id": "7692edab-dac0-430e-9a72-94b0caf71bae",
   "metadata": {},
   "outputs": [],
   "source": [
    "# Target URL\n",
    "url = \"http://books.toscrape.com\""
   ]
  },
  {
   "cell_type": "code",
   "execution_count": 5,
   "id": "b6a10450-08cd-47a1-a597-5678434aa5c2",
   "metadata": {},
   "outputs": [],
   "source": [
    "# Send a GET request\n",
    "response = requests.get(url)"
   ]
  },
  {
   "cell_type": "code",
   "execution_count": 6,
   "id": "75ce0c02-ac82-42be-9b66-1741afb685c2",
   "metadata": {},
   "outputs": [],
   "source": [
    "# Parse the HTML\n",
    "soup = BeautifulSoup(response.text, 'html.parser')"
   ]
  },
  {
   "cell_type": "code",
   "execution_count": 7,
   "id": "edea6b5c-63b5-4c80-ab76-5e4126f770ae",
   "metadata": {},
   "outputs": [],
   "source": [
    "# Find all book containers\n",
    "books = soup.find_all('article', class_='product_pod')"
   ]
  },
  {
   "cell_type": "code",
   "execution_count": 18,
   "id": "79ace99d-b987-4404-bd67-c9d62b2cffb6",
   "metadata": {},
   "outputs": [
    {
     "name": "stdout",
     "output_type": "stream",
     "text": [
      "Title: A Light in the Attic\n",
      "Price (GBP): £51.77\n",
      "Price (INR): ₹5384.08\n",
      "\n",
      "Title: Tipping the Velvet\n",
      "Price (GBP): £53.74\n",
      "Price (INR): ₹5588.96\n",
      "\n",
      "Title: Soumission\n",
      "Price (GBP): £50.10\n",
      "Price (INR): ₹5210.40\n",
      "\n",
      "Title: Sharp Objects\n",
      "Price (GBP): £47.82\n",
      "Price (INR): ₹4973.28\n",
      "\n",
      "Title: Sapiens: A Brief History of Humankind\n",
      "Price (GBP): £54.23\n",
      "Price (INR): ₹5639.92\n",
      "\n",
      "Title: The Requiem Red\n",
      "Price (GBP): £22.65\n",
      "Price (INR): ₹2355.60\n",
      "\n",
      "Title: The Dirty Little Secrets of Getting Your Dream Job\n",
      "Price (GBP): £33.34\n",
      "Price (INR): ₹3467.36\n",
      "\n",
      "Title: The Coming Woman: A Novel Based on the Life of the Infamous Feminist, Victoria Woodhull\n",
      "Price (GBP): £17.93\n",
      "Price (INR): ₹1864.72\n",
      "\n",
      "Title: The Boys in the Boat: Nine Americans and Their Epic Quest for Gold at the 1936 Berlin Olympics\n",
      "Price (GBP): £22.60\n",
      "Price (INR): ₹2350.40\n",
      "\n",
      "Title: The Black Maria\n",
      "Price (GBP): £52.15\n",
      "Price (INR): ₹5423.60\n",
      "\n",
      "Title: Starving Hearts (Triangular Trade Trilogy, #1)\n",
      "Price (GBP): £13.99\n",
      "Price (INR): ₹1454.96\n",
      "\n",
      "Title: Shakespeare's Sonnets\n",
      "Price (GBP): £20.66\n",
      "Price (INR): ₹2148.64\n",
      "\n",
      "Title: Set Me Free\n",
      "Price (GBP): £17.46\n",
      "Price (INR): ₹1815.84\n",
      "\n",
      "Title: Scott Pilgrim's Precious Little Life (Scott Pilgrim #1)\n",
      "Price (GBP): £52.29\n",
      "Price (INR): ₹5438.16\n",
      "\n",
      "Title: Rip it Up and Start Again\n",
      "Price (GBP): £35.02\n",
      "Price (INR): ₹3642.08\n",
      "\n",
      "Title: Our Band Could Be Your Life: Scenes from the American Indie Underground, 1981-1991\n",
      "Price (GBP): £57.25\n",
      "Price (INR): ₹5954.00\n",
      "\n",
      "Title: Olio\n",
      "Price (GBP): £23.88\n",
      "Price (INR): ₹2483.52\n",
      "\n",
      "Title: Mesaerion: The Best Science Fiction Stories 1800-1849\n",
      "Price (GBP): £37.59\n",
      "Price (INR): ₹3909.36\n",
      "\n",
      "Title: Libertarianism for Beginners\n",
      "Price (GBP): £51.33\n",
      "Price (INR): ₹5338.32\n",
      "\n",
      "Title: It's Only the Himalayas\n",
      "Price (GBP): £45.17\n",
      "Price (INR): ₹4697.68\n",
      "\n"
     ]
    }
   ],
   "source": [
    "book_data = []\n",
    "conversion_rate = 104  # 1 GBP ≈ 104 INR (update if needed)\n",
    "\n",
    "for book in books:\n",
    "    title = book.h3.a['title']\n",
    "    price = book.find('p', class_='price_color').text  # e.g., \"£51.77\"\n",
    "    \n",
    "    # Clean the price string\n",
    "    price_gbp_cleaned = price.replace('£', '').replace('Â', '').strip()\n",
    "    \n",
    "    try:\n",
    "        # Convert to float\n",
    "        price_gbp_value = float(price_gbp_cleaned) if price_gbp_cleaned else 0.0\n",
    "        \n",
    "        # Convert to INR\n",
    "        price_inr = price_gbp_value * conversion_rate\n",
    "        \n",
    "        # Print info\n",
    "        print(f\"Title: {title}\\nPrice (GBP): £{price_gbp_value:.2f}\\nPrice (INR): ₹{price_inr:.2f}\\n\")\n",
    "        \n",
    "        # Append to list\n",
    "        book_data.append({\n",
    "            \"Title\": title,\n",
    "            \"Price (GBP)\": f\"£{price_gbp_value:.2f}\",\n",
    "            \"Price (INR)\": f\"₹{price_inr:.2f}\"\n",
    "        })\n",
    "    except ValueError:\n",
    "        print(f\"Error converting price for '{title}': {price}\")\n"
   ]
  },
  {
   "cell_type": "code",
   "execution_count": 19,
   "id": "5e36cd0f-7693-42fc-98da-8b629f6404b3",
   "metadata": {},
   "outputs": [
    {
     "name": "stdout",
     "output_type": "stream",
     "text": [
      "                                                Title Price (GBP) Price (INR)\n",
      "0                                A Light in the Attic      £51.77    ₹5384.08\n",
      "1                                  Tipping the Velvet      £53.74    ₹5588.96\n",
      "2                                          Soumission      £50.10    ₹5210.40\n",
      "3                                       Sharp Objects      £47.82    ₹4973.28\n",
      "4               Sapiens: A Brief History of Humankind      £54.23    ₹5639.92\n",
      "5                                     The Requiem Red      £22.65    ₹2355.60\n",
      "6   The Dirty Little Secrets of Getting Your Dream...      £33.34    ₹3467.36\n",
      "7   The Coming Woman: A Novel Based on the Life of...      £17.93    ₹1864.72\n",
      "8   The Boys in the Boat: Nine Americans and Their...      £22.60    ₹2350.40\n",
      "9                                     The Black Maria      £52.15    ₹5423.60\n",
      "10     Starving Hearts (Triangular Trade Trilogy, #1)      £13.99    ₹1454.96\n",
      "11                              Shakespeare's Sonnets      £20.66    ₹2148.64\n",
      "12                                        Set Me Free      £17.46    ₹1815.84\n",
      "13  Scott Pilgrim's Precious Little Life (Scott Pi...      £52.29    ₹5438.16\n",
      "14                          Rip it Up and Start Again      £35.02    ₹3642.08\n",
      "15  Our Band Could Be Your Life: Scenes from the A...      £57.25    ₹5954.00\n",
      "16                                               Olio      £23.88    ₹2483.52\n",
      "17  Mesaerion: The Best Science Fiction Stories 18...      £37.59    ₹3909.36\n",
      "18                       Libertarianism for Beginners      £51.33    ₹5338.32\n",
      "19                            It's Only the Himalayas      £45.17    ₹4697.68\n"
     ]
    }
   ],
   "source": [
    "df=pd.DataFrame(book_data)\n",
    "print(df)"
   ]
  },
  {
   "cell_type": "code",
   "execution_count": 20,
   "id": "4a636491-ee2b-4f2d-b9c1-5a9c72fcc42f",
   "metadata": {},
   "outputs": [
    {
     "data": {
      "text/plain": [
       "Title          Soumission\n",
       "Price (GBP)        £50.10\n",
       "Price (INR)      ₹5210.40\n",
       "Name: 2, dtype: object"
      ]
     },
     "execution_count": 20,
     "metadata": {},
     "output_type": "execute_result"
    }
   ],
   "source": [
    "book1=df.iloc[2]\n",
    "book1"
   ]
  },
  {
   "cell_type": "code",
   "execution_count": 21,
   "id": "a2fdce77-d514-4aa3-9c2b-e46ab76679e0",
   "metadata": {},
   "outputs": [
    {
     "data": {
      "text/html": [
       "<div>\n",
       "<style scoped>\n",
       "    .dataframe tbody tr th:only-of-type {\n",
       "        vertical-align: middle;\n",
       "    }\n",
       "\n",
       "    .dataframe tbody tr th {\n",
       "        vertical-align: top;\n",
       "    }\n",
       "\n",
       "    .dataframe thead th {\n",
       "        text-align: right;\n",
       "    }\n",
       "</style>\n",
       "<table border=\"1\" class=\"dataframe\">\n",
       "  <thead>\n",
       "    <tr style=\"text-align: right;\">\n",
       "      <th></th>\n",
       "      <th>Title</th>\n",
       "      <th>Price (GBP)</th>\n",
       "      <th>Price (INR)</th>\n",
       "    </tr>\n",
       "  </thead>\n",
       "  <tbody>\n",
       "    <tr>\n",
       "      <th>0</th>\n",
       "      <td>A Light in the Attic</td>\n",
       "      <td>£51.77</td>\n",
       "      <td>₹5384.08</td>\n",
       "    </tr>\n",
       "    <tr>\n",
       "      <th>1</th>\n",
       "      <td>Tipping the Velvet</td>\n",
       "      <td>£53.74</td>\n",
       "      <td>₹5588.96</td>\n",
       "    </tr>\n",
       "    <tr>\n",
       "      <th>2</th>\n",
       "      <td>Soumission</td>\n",
       "      <td>£50.10</td>\n",
       "      <td>₹5210.40</td>\n",
       "    </tr>\n",
       "    <tr>\n",
       "      <th>3</th>\n",
       "      <td>Sharp Objects</td>\n",
       "      <td>£47.82</td>\n",
       "      <td>₹4973.28</td>\n",
       "    </tr>\n",
       "    <tr>\n",
       "      <th>4</th>\n",
       "      <td>Sapiens: A Brief History of Humankind</td>\n",
       "      <td>£54.23</td>\n",
       "      <td>₹5639.92</td>\n",
       "    </tr>\n",
       "    <tr>\n",
       "      <th>5</th>\n",
       "      <td>The Requiem Red</td>\n",
       "      <td>£22.65</td>\n",
       "      <td>₹2355.60</td>\n",
       "    </tr>\n",
       "    <tr>\n",
       "      <th>6</th>\n",
       "      <td>The Dirty Little Secrets of Getting Your Dream...</td>\n",
       "      <td>£33.34</td>\n",
       "      <td>₹3467.36</td>\n",
       "    </tr>\n",
       "    <tr>\n",
       "      <th>7</th>\n",
       "      <td>The Coming Woman: A Novel Based on the Life of...</td>\n",
       "      <td>£17.93</td>\n",
       "      <td>₹1864.72</td>\n",
       "    </tr>\n",
       "    <tr>\n",
       "      <th>8</th>\n",
       "      <td>The Boys in the Boat: Nine Americans and Their...</td>\n",
       "      <td>£22.60</td>\n",
       "      <td>₹2350.40</td>\n",
       "    </tr>\n",
       "    <tr>\n",
       "      <th>9</th>\n",
       "      <td>The Black Maria</td>\n",
       "      <td>£52.15</td>\n",
       "      <td>₹5423.60</td>\n",
       "    </tr>\n",
       "    <tr>\n",
       "      <th>10</th>\n",
       "      <td>Starving Hearts (Triangular Trade Trilogy, #1)</td>\n",
       "      <td>£13.99</td>\n",
       "      <td>₹1454.96</td>\n",
       "    </tr>\n",
       "  </tbody>\n",
       "</table>\n",
       "</div>"
      ],
      "text/plain": [
       "                                                Title Price (GBP) Price (INR)\n",
       "0                                A Light in the Attic      £51.77    ₹5384.08\n",
       "1                                  Tipping the Velvet      £53.74    ₹5588.96\n",
       "2                                          Soumission      £50.10    ₹5210.40\n",
       "3                                       Sharp Objects      £47.82    ₹4973.28\n",
       "4               Sapiens: A Brief History of Humankind      £54.23    ₹5639.92\n",
       "5                                     The Requiem Red      £22.65    ₹2355.60\n",
       "6   The Dirty Little Secrets of Getting Your Dream...      £33.34    ₹3467.36\n",
       "7   The Coming Woman: A Novel Based on the Life of...      £17.93    ₹1864.72\n",
       "8   The Boys in the Boat: Nine Americans and Their...      £22.60    ₹2350.40\n",
       "9                                     The Black Maria      £52.15    ₹5423.60\n",
       "10     Starving Hearts (Triangular Trade Trilogy, #1)      £13.99    ₹1454.96"
      ]
     },
     "execution_count": 21,
     "metadata": {},
     "output_type": "execute_result"
    }
   ],
   "source": [
    "top=df.head(11)\n",
    "top"
   ]
  },
  {
   "cell_type": "code",
   "execution_count": 22,
   "id": "29d2f327-202f-4258-adff-d1996d5df723",
   "metadata": {},
   "outputs": [
    {
     "data": {
      "text/html": [
       "<div>\n",
       "<style scoped>\n",
       "    .dataframe tbody tr th:only-of-type {\n",
       "        vertical-align: middle;\n",
       "    }\n",
       "\n",
       "    .dataframe tbody tr th {\n",
       "        vertical-align: top;\n",
       "    }\n",
       "\n",
       "    .dataframe thead th {\n",
       "        text-align: right;\n",
       "    }\n",
       "</style>\n",
       "<table border=\"1\" class=\"dataframe\">\n",
       "  <thead>\n",
       "    <tr style=\"text-align: right;\">\n",
       "      <th></th>\n",
       "      <th>Title</th>\n",
       "      <th>Price (GBP)</th>\n",
       "      <th>Price (INR)</th>\n",
       "    </tr>\n",
       "  </thead>\n",
       "  <tbody>\n",
       "    <tr>\n",
       "      <th>9</th>\n",
       "      <td>The Black Maria</td>\n",
       "      <td>£52.15</td>\n",
       "      <td>₹5423.60</td>\n",
       "    </tr>\n",
       "    <tr>\n",
       "      <th>10</th>\n",
       "      <td>Starving Hearts (Triangular Trade Trilogy, #1)</td>\n",
       "      <td>£13.99</td>\n",
       "      <td>₹1454.96</td>\n",
       "    </tr>\n",
       "    <tr>\n",
       "      <th>11</th>\n",
       "      <td>Shakespeare's Sonnets</td>\n",
       "      <td>£20.66</td>\n",
       "      <td>₹2148.64</td>\n",
       "    </tr>\n",
       "    <tr>\n",
       "      <th>12</th>\n",
       "      <td>Set Me Free</td>\n",
       "      <td>£17.46</td>\n",
       "      <td>₹1815.84</td>\n",
       "    </tr>\n",
       "    <tr>\n",
       "      <th>13</th>\n",
       "      <td>Scott Pilgrim's Precious Little Life (Scott Pi...</td>\n",
       "      <td>£52.29</td>\n",
       "      <td>₹5438.16</td>\n",
       "    </tr>\n",
       "    <tr>\n",
       "      <th>14</th>\n",
       "      <td>Rip it Up and Start Again</td>\n",
       "      <td>£35.02</td>\n",
       "      <td>₹3642.08</td>\n",
       "    </tr>\n",
       "    <tr>\n",
       "      <th>15</th>\n",
       "      <td>Our Band Could Be Your Life: Scenes from the A...</td>\n",
       "      <td>£57.25</td>\n",
       "      <td>₹5954.00</td>\n",
       "    </tr>\n",
       "    <tr>\n",
       "      <th>16</th>\n",
       "      <td>Olio</td>\n",
       "      <td>£23.88</td>\n",
       "      <td>₹2483.52</td>\n",
       "    </tr>\n",
       "    <tr>\n",
       "      <th>17</th>\n",
       "      <td>Mesaerion: The Best Science Fiction Stories 18...</td>\n",
       "      <td>£37.59</td>\n",
       "      <td>₹3909.36</td>\n",
       "    </tr>\n",
       "    <tr>\n",
       "      <th>18</th>\n",
       "      <td>Libertarianism for Beginners</td>\n",
       "      <td>£51.33</td>\n",
       "      <td>₹5338.32</td>\n",
       "    </tr>\n",
       "    <tr>\n",
       "      <th>19</th>\n",
       "      <td>It's Only the Himalayas</td>\n",
       "      <td>£45.17</td>\n",
       "      <td>₹4697.68</td>\n",
       "    </tr>\n",
       "  </tbody>\n",
       "</table>\n",
       "</div>"
      ],
      "text/plain": [
       "                                                Title Price (GBP) Price (INR)\n",
       "9                                     The Black Maria      £52.15    ₹5423.60\n",
       "10     Starving Hearts (Triangular Trade Trilogy, #1)      £13.99    ₹1454.96\n",
       "11                              Shakespeare's Sonnets      £20.66    ₹2148.64\n",
       "12                                        Set Me Free      £17.46    ₹1815.84\n",
       "13  Scott Pilgrim's Precious Little Life (Scott Pi...      £52.29    ₹5438.16\n",
       "14                          Rip it Up and Start Again      £35.02    ₹3642.08\n",
       "15  Our Band Could Be Your Life: Scenes from the A...      £57.25    ₹5954.00\n",
       "16                                               Olio      £23.88    ₹2483.52\n",
       "17  Mesaerion: The Best Science Fiction Stories 18...      £37.59    ₹3909.36\n",
       "18                       Libertarianism for Beginners      £51.33    ₹5338.32\n",
       "19                            It's Only the Himalayas      £45.17    ₹4697.68"
      ]
     },
     "execution_count": 22,
     "metadata": {},
     "output_type": "execute_result"
    }
   ],
   "source": [
    "last=df.tail(11)\n",
    "last"
   ]
  },
  {
   "cell_type": "code",
   "execution_count": 27,
   "id": "33fb7ae2-7658-4c7c-924e-d4496aceda25",
   "metadata": {},
   "outputs": [],
   "source": [
    "total=df.groupby(\"Title\")[\"Price (INR)\"].sum().sort_values(ascending=False)"
   ]
  },
  {
   "cell_type": "code",
   "execution_count": 17,
   "id": "7dbc1d0b-57b2-44f9-a511-c49736bd73d9",
   "metadata": {},
   "outputs": [
    {
     "data": {
      "text/plain": [
       "Title\n",
       "Our Band Could Be Your Life: Scenes from the American Indie Underground, 1981-1991                Â£57.25\n",
       "Sapiens: A Brief History of Humankind                                                             Â£54.23\n",
       "Tipping the Velvet                                                                                Â£53.74\n",
       "Scott Pilgrim's Precious Little Life (Scott Pilgrim #1)                                           Â£52.29\n",
       "The Black Maria                                                                                   Â£52.15\n",
       "A Light in the Attic                                                                              Â£51.77\n",
       "Libertarianism for Beginners                                                                      Â£51.33\n",
       "Soumission                                                                                        Â£50.10\n",
       "Sharp Objects                                                                                     Â£47.82\n",
       "It's Only the Himalayas                                                                           Â£45.17\n",
       "Mesaerion: The Best Science Fiction Stories 1800-1849                                             Â£37.59\n",
       "Rip it Up and Start Again                                                                         Â£35.02\n",
       "The Dirty Little Secrets of Getting Your Dream Job                                                Â£33.34\n",
       "Olio                                                                                              Â£23.88\n",
       "The Requiem Red                                                                                   Â£22.65\n",
       "The Boys in the Boat: Nine Americans and Their Epic Quest for Gold at the 1936 Berlin Olympics    Â£22.60\n",
       "Shakespeare's Sonnets                                                                             Â£20.66\n",
       "The Coming Woman: A Novel Based on the Life of the Infamous Feminist, Victoria Woodhull           Â£17.93\n",
       "Set Me Free                                                                                       Â£17.46\n",
       "Starving Hearts (Triangular Trade Trilogy, #1)                                                    Â£13.99\n",
       "Name: Price, dtype: object"
      ]
     },
     "execution_count": 17,
     "metadata": {},
     "output_type": "execute_result"
    }
   ],
   "source": [
    "total"
   ]
  },
  {
   "cell_type": "code",
   "execution_count": 31,
   "id": "f3f0b852-9541-4eb5-9bcb-727e06d39bfd",
   "metadata": {},
   "outputs": [
    {
     "data": {
      "image/png": "[encoded data removed]",
      "text/plain": [
       "<Figure size 1000x500 with 1 Axes>"
      ]
     },
     "metadata": {},
     "output_type": "display_data"
    }
   ],
   "source": [
    "import matplotlib.pyplot as plt\n",
    "import seaborn as sns\n",
    "#Bar chart of top books with highest price\n",
    "top10=total.head(10)\n",
    "plt.figure(figsize=(10,5))\n",
    "sns.barplot(x=top10.index,y=top10.values)\n",
    "plt.xticks(rotation=90)\n",
    "plt.title(\"Top 10 Books price list\")\n",
    "plt.show()"
   ]
  },
  {
   "cell_type": "code",
   "execution_count": null,
   "id": "070f9f0b-f794-46e4-a2b0-e27726796f1c",
   "metadata": {},
   "outputs": [],
   "source": []
  }
 ],
 "metadata": {
  "kernelspec": {
   "display_name": "Python 3 (ipykernel)",
   "language": "python",
   "name": "python3"
  },
  "language_info": {
   "codemirror_mode": {
    "name": "ipython",
    "version": 3
   },
   "file_extension": ".py",
   "mimetype": "text/x-python",
   "name": "python",
   "nbconvert_exporter": "python",
   "pygments_lexer": "ipython3",
   "version": "3.13.5"
  }
 },
 "nbformat": 4,
 "nbformat_minor": 5
}
