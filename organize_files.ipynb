{
 "cells": [
  {
   "cell_type": "code",
   "execution_count": 1,
   "id": "f0e100dd-39f8-4912-b601-5202fc50a044",
   "metadata": {},
   "outputs": [],
   "source": [
    "import os\n",
    "import shutil"
   ]
  },
  {
   "cell_type": "code",
   "execution_count": 2,
   "id": "b1974a8f-1da1-46e9-bbd4-5c6bf6817fa8",
   "metadata": {},
   "outputs": [],
   "source": [
    " def organize_files(folder_path):\n",
    "     for filename in os.listdir(folder_path):\n",
    "         file_path = os.path.join(folder_path, filename)\n",
    "         if os.path.isfile(file_path):\n",
    "             _, ext = os.path.splitext(filename)\n",
    "             ext = ext[1:].upper()  # Remove '.' and convert to uppercase\n",
    "             if not ext:\n",
    "                 continue\n",
    "             dest_folder = os.path.join(folder_path, ext)\n",
    "             os.makedirs(dest_folder, exist_ok=True)\n",
    "             shutil.move(file_path, os.path.join(dest_folder, filename))organize_files(r\"C:\\Users\\Ashwinbarath\\Desktop\\AI&ML\")\n"
   ]
  },
  {
   "cell_type": "code",
   "execution_count": 4,
   "id": "7ab53b97-dc8b-4a36-8362-707106f1f653",
   "metadata": {},
   "outputs": [],
   "source": [
    "organize_files(r\"C:\\Users\\Ashwinbarath\\Desktop\\AI&ML\")"
   ]
  },
  {
   "cell_type": "code",
   "execution_count": null,
   "id": "76a9c17b-e735-4681-a724-cb890638bb5b",
   "metadata": {},
   "outputs": [],
   "source": []
  }
 ],
 "metadata": {
  "kernelspec": {
   "display_name": "Python 3 (ipykernel)",
   "language": "python",
   "name": "python3"
  },
  "language_info": {
   "codemirror_mode": {
    "name": "ipython",
    "version": 3
   },
   "file_extension": ".py",
   "mimetype": "text/x-python",
   "name": "python",
   "nbconvert_exporter": "python",
   "pygments_lexer": "ipython3",
   "version": "3.13.5"
  }
 },
 "nbformat": 4,
 "nbformat_minor": 5
}
